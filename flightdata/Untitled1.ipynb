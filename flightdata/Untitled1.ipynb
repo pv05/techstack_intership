{
 "cells": [
  {
   "cell_type": "code",
   "execution_count": 1,
   "id": "5edf0727",
   "metadata": {},
   "outputs": [],
   "source": [
    "import numpy as np \n",
    "import pandas as pd \n",
    "import seaborn as sns \n",
    "import matplotlib.pyplot as plt\n",
    "import warnings\n",
    "warnings.filterwarnings('ignore')\n",
    "from IPython.core.display import HTML,display "
   ]
  },
  {
   "cell_type": "code",
   "execution_count": 2,
   "id": "54bdaed5",
   "metadata": {},
   "outputs": [],
   "source": [
    "business = pd.read_csv('business.csv')\n",
    "economy = pd.read_csv('economy.csv')"
   ]
  },
  {
   "cell_type": "markdown",
   "id": "605704b4",
   "metadata": {},
   "source": [
    "### Make 'class' column to identify which from economy and business"
   ]
  },
  {
   "cell_type": "code",
   "execution_count": 3,
   "id": "1d1f6f69",
   "metadata": {},
   "outputs": [],
   "source": [
    "business['class'] = \"business\""
   ]
  },
  {
   "cell_type": "code",
   "execution_count": 4,
   "id": "573d8957",
   "metadata": {},
   "outputs": [],
   "source": [
    "economy['class'] = \"economy\""
   ]
  },
  {
   "cell_type": "markdown",
   "id": "b96bc9b8",
   "metadata": {},
   "source": [
    "### Concat both dataset with new indexing"
   ]
  },
  {
   "cell_type": "code",
   "execution_count": 5,
   "id": "6eca8133",
   "metadata": {},
   "outputs": [],
   "source": [
    "data = pd.concat([economy,business], ignore_index=True)"
   ]
  },
  {
   "cell_type": "code",
   "execution_count": 6,
   "id": "6c719974",
   "metadata": {
    "scrolled": true
   },
   "outputs": [
    {
     "data": {
      "text/html": [
       "<div>\n",
       "<style scoped>\n",
       "    .dataframe tbody tr th:only-of-type {\n",
       "        vertical-align: middle;\n",
       "    }\n",
       "\n",
       "    .dataframe tbody tr th {\n",
       "        vertical-align: top;\n",
       "    }\n",
       "\n",
       "    .dataframe thead th {\n",
       "        text-align: right;\n",
       "    }\n",
       "</style>\n",
       "<table border=\"1\" class=\"dataframe\">\n",
       "  <thead>\n",
       "    <tr style=\"text-align: right;\">\n",
       "      <th></th>\n",
       "      <th>date</th>\n",
       "      <th>airline</th>\n",
       "      <th>ch_code</th>\n",
       "      <th>num_code</th>\n",
       "      <th>dep_time</th>\n",
       "      <th>from</th>\n",
       "      <th>time_taken</th>\n",
       "      <th>stop</th>\n",
       "      <th>arr_time</th>\n",
       "      <th>to</th>\n",
       "      <th>price</th>\n",
       "      <th>class</th>\n",
       "    </tr>\n",
       "  </thead>\n",
       "  <tbody>\n",
       "    <tr>\n",
       "      <th>0</th>\n",
       "      <td>11-02-2022</td>\n",
       "      <td>SpiceJet</td>\n",
       "      <td>SG</td>\n",
       "      <td>8709</td>\n",
       "      <td>18:55</td>\n",
       "      <td>Delhi</td>\n",
       "      <td>02h 10m</td>\n",
       "      <td>non-stop</td>\n",
       "      <td>21:05</td>\n",
       "      <td>Mumbai</td>\n",
       "      <td>5,953</td>\n",
       "      <td>economy</td>\n",
       "    </tr>\n",
       "    <tr>\n",
       "      <th>1</th>\n",
       "      <td>11-02-2022</td>\n",
       "      <td>SpiceJet</td>\n",
       "      <td>SG</td>\n",
       "      <td>8157</td>\n",
       "      <td>06:20</td>\n",
       "      <td>Delhi</td>\n",
       "      <td>02h 20m</td>\n",
       "      <td>non-stop</td>\n",
       "      <td>08:40</td>\n",
       "      <td>Mumbai</td>\n",
       "      <td>5,953</td>\n",
       "      <td>economy</td>\n",
       "    </tr>\n",
       "    <tr>\n",
       "      <th>2</th>\n",
       "      <td>11-02-2022</td>\n",
       "      <td>AirAsia</td>\n",
       "      <td>I5</td>\n",
       "      <td>764</td>\n",
       "      <td>04:25</td>\n",
       "      <td>Delhi</td>\n",
       "      <td>02h 10m</td>\n",
       "      <td>non-stop</td>\n",
       "      <td>06:35</td>\n",
       "      <td>Mumbai</td>\n",
       "      <td>5,956</td>\n",
       "      <td>economy</td>\n",
       "    </tr>\n",
       "    <tr>\n",
       "      <th>3</th>\n",
       "      <td>11-02-2022</td>\n",
       "      <td>Vistara</td>\n",
       "      <td>UK</td>\n",
       "      <td>995</td>\n",
       "      <td>10:20</td>\n",
       "      <td>Delhi</td>\n",
       "      <td>02h 15m</td>\n",
       "      <td>non-stop</td>\n",
       "      <td>12:35</td>\n",
       "      <td>Mumbai</td>\n",
       "      <td>5,955</td>\n",
       "      <td>economy</td>\n",
       "    </tr>\n",
       "    <tr>\n",
       "      <th>4</th>\n",
       "      <td>11-02-2022</td>\n",
       "      <td>Vistara</td>\n",
       "      <td>UK</td>\n",
       "      <td>963</td>\n",
       "      <td>08:50</td>\n",
       "      <td>Delhi</td>\n",
       "      <td>02h 20m</td>\n",
       "      <td>non-stop</td>\n",
       "      <td>11:10</td>\n",
       "      <td>Mumbai</td>\n",
       "      <td>5,955</td>\n",
       "      <td>economy</td>\n",
       "    </tr>\n",
       "    <tr>\n",
       "      <th>...</th>\n",
       "      <td>...</td>\n",
       "      <td>...</td>\n",
       "      <td>...</td>\n",
       "      <td>...</td>\n",
       "      <td>...</td>\n",
       "      <td>...</td>\n",
       "      <td>...</td>\n",
       "      <td>...</td>\n",
       "      <td>...</td>\n",
       "      <td>...</td>\n",
       "      <td>...</td>\n",
       "      <td>...</td>\n",
       "    </tr>\n",
       "    <tr>\n",
       "      <th>300256</th>\n",
       "      <td>31-03-2022</td>\n",
       "      <td>Vistara</td>\n",
       "      <td>UK</td>\n",
       "      <td>822</td>\n",
       "      <td>09:45</td>\n",
       "      <td>Chennai</td>\n",
       "      <td>10h 05m</td>\n",
       "      <td>1-stop\\n\\t\\t\\t\\t\\t\\t\\t\\t\\t\\t\\t\\t\\n\\t\\t\\t\\t\\t\\t...</td>\n",
       "      <td>19:50</td>\n",
       "      <td>Hyderabad</td>\n",
       "      <td>69,265</td>\n",
       "      <td>business</td>\n",
       "    </tr>\n",
       "    <tr>\n",
       "      <th>300257</th>\n",
       "      <td>31-03-2022</td>\n",
       "      <td>Vistara</td>\n",
       "      <td>UK</td>\n",
       "      <td>826</td>\n",
       "      <td>12:30</td>\n",
       "      <td>Chennai</td>\n",
       "      <td>10h 25m</td>\n",
       "      <td>1-stop\\n\\t\\t\\t\\t\\t\\t\\t\\t\\t\\t\\t\\t\\n\\t\\t\\t\\t\\t\\t...</td>\n",
       "      <td>22:55</td>\n",
       "      <td>Hyderabad</td>\n",
       "      <td>77,105</td>\n",
       "      <td>business</td>\n",
       "    </tr>\n",
       "    <tr>\n",
       "      <th>300258</th>\n",
       "      <td>31-03-2022</td>\n",
       "      <td>Vistara</td>\n",
       "      <td>UK</td>\n",
       "      <td>832</td>\n",
       "      <td>07:05</td>\n",
       "      <td>Chennai</td>\n",
       "      <td>13h 50m</td>\n",
       "      <td>1-stop\\n\\t\\t\\t\\t\\t\\t\\t\\t\\t\\t\\t\\t\\n\\t\\t\\t\\t\\t\\t...</td>\n",
       "      <td>20:55</td>\n",
       "      <td>Hyderabad</td>\n",
       "      <td>79,099</td>\n",
       "      <td>business</td>\n",
       "    </tr>\n",
       "    <tr>\n",
       "      <th>300259</th>\n",
       "      <td>31-03-2022</td>\n",
       "      <td>Vistara</td>\n",
       "      <td>UK</td>\n",
       "      <td>828</td>\n",
       "      <td>07:00</td>\n",
       "      <td>Chennai</td>\n",
       "      <td>10h 00m</td>\n",
       "      <td>1-stop\\n\\t\\t\\t\\t\\t\\t\\t\\t\\t\\t\\t\\t\\n\\t\\t\\t\\t\\t\\t...</td>\n",
       "      <td>17:00</td>\n",
       "      <td>Hyderabad</td>\n",
       "      <td>81,585</td>\n",
       "      <td>business</td>\n",
       "    </tr>\n",
       "    <tr>\n",
       "      <th>300260</th>\n",
       "      <td>31-03-2022</td>\n",
       "      <td>Vistara</td>\n",
       "      <td>UK</td>\n",
       "      <td>822</td>\n",
       "      <td>09:45</td>\n",
       "      <td>Chennai</td>\n",
       "      <td>10h 05m</td>\n",
       "      <td>1-stop\\n\\t\\t\\t\\t\\t\\t\\t\\t\\t\\t\\t\\t\\n\\t\\t\\t\\t\\t\\t...</td>\n",
       "      <td>19:50</td>\n",
       "      <td>Hyderabad</td>\n",
       "      <td>81,585</td>\n",
       "      <td>business</td>\n",
       "    </tr>\n",
       "  </tbody>\n",
       "</table>\n",
       "<p>300261 rows × 12 columns</p>\n",
       "</div>"
      ],
      "text/plain": [
       "              date   airline ch_code  num_code dep_time     from time_taken  \\\n",
       "0       11-02-2022  SpiceJet      SG      8709    18:55    Delhi    02h 10m   \n",
       "1       11-02-2022  SpiceJet      SG      8157    06:20    Delhi    02h 20m   \n",
       "2       11-02-2022   AirAsia      I5       764    04:25    Delhi    02h 10m   \n",
       "3       11-02-2022   Vistara      UK       995    10:20    Delhi    02h 15m   \n",
       "4       11-02-2022   Vistara      UK       963    08:50    Delhi    02h 20m   \n",
       "...            ...       ...     ...       ...      ...      ...        ...   \n",
       "300256  31-03-2022   Vistara      UK       822    09:45  Chennai    10h 05m   \n",
       "300257  31-03-2022   Vistara      UK       826    12:30  Chennai    10h 25m   \n",
       "300258  31-03-2022   Vistara      UK       832    07:05  Chennai    13h 50m   \n",
       "300259  31-03-2022   Vistara      UK       828    07:00  Chennai    10h 00m   \n",
       "300260  31-03-2022   Vistara      UK       822    09:45  Chennai    10h 05m   \n",
       "\n",
       "                                                     stop arr_time         to  \\\n",
       "0                                               non-stop     21:05     Mumbai   \n",
       "1                                               non-stop     08:40     Mumbai   \n",
       "2                                               non-stop     06:35     Mumbai   \n",
       "3                                               non-stop     12:35     Mumbai   \n",
       "4                                               non-stop     11:10     Mumbai   \n",
       "...                                                   ...      ...        ...   \n",
       "300256  1-stop\\n\\t\\t\\t\\t\\t\\t\\t\\t\\t\\t\\t\\t\\n\\t\\t\\t\\t\\t\\t...    19:50  Hyderabad   \n",
       "300257  1-stop\\n\\t\\t\\t\\t\\t\\t\\t\\t\\t\\t\\t\\t\\n\\t\\t\\t\\t\\t\\t...    22:55  Hyderabad   \n",
       "300258  1-stop\\n\\t\\t\\t\\t\\t\\t\\t\\t\\t\\t\\t\\t\\n\\t\\t\\t\\t\\t\\t...    20:55  Hyderabad   \n",
       "300259  1-stop\\n\\t\\t\\t\\t\\t\\t\\t\\t\\t\\t\\t\\t\\n\\t\\t\\t\\t\\t\\t...    17:00  Hyderabad   \n",
       "300260  1-stop\\n\\t\\t\\t\\t\\t\\t\\t\\t\\t\\t\\t\\t\\n\\t\\t\\t\\t\\t\\t...    19:50  Hyderabad   \n",
       "\n",
       "         price     class  \n",
       "0        5,953   economy  \n",
       "1        5,953   economy  \n",
       "2        5,956   economy  \n",
       "3        5,955   economy  \n",
       "4        5,955   economy  \n",
       "...        ...       ...  \n",
       "300256  69,265  business  \n",
       "300257  77,105  business  \n",
       "300258  79,099  business  \n",
       "300259  81,585  business  \n",
       "300260  81,585  business  \n",
       "\n",
       "[300261 rows x 12 columns]"
      ]
     },
     "execution_count": 6,
     "metadata": {},
     "output_type": "execute_result"
    }
   ],
   "source": [
    "data"
   ]
  },
  {
   "cell_type": "markdown",
   "id": "b04f33ac",
   "metadata": {},
   "source": [
    "### Duplicated rows remove"
   ]
  },
  {
   "cell_type": "code",
   "execution_count": 7,
   "id": "200f30ac",
   "metadata": {},
   "outputs": [
    {
     "data": {
      "text/plain": [
       "2"
      ]
     },
     "execution_count": 7,
     "metadata": {},
     "output_type": "execute_result"
    }
   ],
   "source": [
    "data.duplicated().sum() "
   ]
  },
  {
   "cell_type": "code",
   "execution_count": 9,
   "id": "fa8cf1b9",
   "metadata": {},
   "outputs": [],
   "source": [
    "data.drop_duplicates(inplace=True)"
   ]
  },
  {
   "cell_type": "markdown",
   "id": "0e1390be",
   "metadata": {},
   "source": [
    "# 1) Data Cleaning Process - Start"
   ]
  },
  {
   "cell_type": "markdown",
   "id": "9bc5f263",
   "metadata": {},
   "source": [
    "### clean and text mine on 'stop' column "
   ]
  },
  {
   "cell_type": "code",
   "execution_count": 10,
   "id": "379af0ec",
   "metadata": {},
   "outputs": [],
   "source": [
    "def stopsfind(stops): # \"1-stop\\n\\t\\t\\\" , \"1-stop\\n\\t\\tVia Vishakhapatnam\\n\\t\\t\\\"    \n",
    "    stops = stops.replace('Via','').split()\n",
    "    if stops[0] == \"1-stop\":\n",
    "            stops[0] = \"one\"\n",
    "    elif stops[0] == \"non-stop\":\n",
    "            stops[0] = \"zero\"\n",
    "    else:\n",
    "            stops[0] = \"two_or_more\"\n",
    "    if len(stops) == 1:\n",
    "        return pd.Series([stops[0],\"NAN\"])\n",
    "    else:\n",
    "        return pd.Series([stops[0],stops[1]])"
   ]
  },
  {
   "cell_type": "code",
   "execution_count": 11,
   "id": "784431d3",
   "metadata": {},
   "outputs": [],
   "source": [
    "data[['stops','stops_via']] = data['stop'].apply(stopsfind)"
   ]
  },
  {
   "cell_type": "code",
   "execution_count": 12,
   "id": "2c655e4d",
   "metadata": {},
   "outputs": [
    {
     "data": {
      "text/html": [
       "<div>\n",
       "<style scoped>\n",
       "    .dataframe tbody tr th:only-of-type {\n",
       "        vertical-align: middle;\n",
       "    }\n",
       "\n",
       "    .dataframe tbody tr th {\n",
       "        vertical-align: top;\n",
       "    }\n",
       "\n",
       "    .dataframe thead th {\n",
       "        text-align: right;\n",
       "    }\n",
       "</style>\n",
       "<table border=\"1\" class=\"dataframe\">\n",
       "  <thead>\n",
       "    <tr style=\"text-align: right;\">\n",
       "      <th></th>\n",
       "      <th>date</th>\n",
       "      <th>airline</th>\n",
       "      <th>ch_code</th>\n",
       "      <th>num_code</th>\n",
       "      <th>dep_time</th>\n",
       "      <th>from</th>\n",
       "      <th>time_taken</th>\n",
       "      <th>stop</th>\n",
       "      <th>arr_time</th>\n",
       "      <th>to</th>\n",
       "      <th>price</th>\n",
       "      <th>class</th>\n",
       "      <th>stops</th>\n",
       "      <th>stops_via</th>\n",
       "    </tr>\n",
       "  </thead>\n",
       "  <tbody>\n",
       "    <tr>\n",
       "      <th>0</th>\n",
       "      <td>11-02-2022</td>\n",
       "      <td>SpiceJet</td>\n",
       "      <td>SG</td>\n",
       "      <td>8709</td>\n",
       "      <td>18:55</td>\n",
       "      <td>Delhi</td>\n",
       "      <td>02h 10m</td>\n",
       "      <td>non-stop</td>\n",
       "      <td>21:05</td>\n",
       "      <td>Mumbai</td>\n",
       "      <td>5,953</td>\n",
       "      <td>economy</td>\n",
       "      <td>zero</td>\n",
       "      <td>NAN</td>\n",
       "    </tr>\n",
       "    <tr>\n",
       "      <th>1</th>\n",
       "      <td>11-02-2022</td>\n",
       "      <td>SpiceJet</td>\n",
       "      <td>SG</td>\n",
       "      <td>8157</td>\n",
       "      <td>06:20</td>\n",
       "      <td>Delhi</td>\n",
       "      <td>02h 20m</td>\n",
       "      <td>non-stop</td>\n",
       "      <td>08:40</td>\n",
       "      <td>Mumbai</td>\n",
       "      <td>5,953</td>\n",
       "      <td>economy</td>\n",
       "      <td>zero</td>\n",
       "      <td>NAN</td>\n",
       "    </tr>\n",
       "    <tr>\n",
       "      <th>2</th>\n",
       "      <td>11-02-2022</td>\n",
       "      <td>AirAsia</td>\n",
       "      <td>I5</td>\n",
       "      <td>764</td>\n",
       "      <td>04:25</td>\n",
       "      <td>Delhi</td>\n",
       "      <td>02h 10m</td>\n",
       "      <td>non-stop</td>\n",
       "      <td>06:35</td>\n",
       "      <td>Mumbai</td>\n",
       "      <td>5,956</td>\n",
       "      <td>economy</td>\n",
       "      <td>zero</td>\n",
       "      <td>NAN</td>\n",
       "    </tr>\n",
       "    <tr>\n",
       "      <th>3</th>\n",
       "      <td>11-02-2022</td>\n",
       "      <td>Vistara</td>\n",
       "      <td>UK</td>\n",
       "      <td>995</td>\n",
       "      <td>10:20</td>\n",
       "      <td>Delhi</td>\n",
       "      <td>02h 15m</td>\n",
       "      <td>non-stop</td>\n",
       "      <td>12:35</td>\n",
       "      <td>Mumbai</td>\n",
       "      <td>5,955</td>\n",
       "      <td>economy</td>\n",
       "      <td>zero</td>\n",
       "      <td>NAN</td>\n",
       "    </tr>\n",
       "    <tr>\n",
       "      <th>4</th>\n",
       "      <td>11-02-2022</td>\n",
       "      <td>Vistara</td>\n",
       "      <td>UK</td>\n",
       "      <td>963</td>\n",
       "      <td>08:50</td>\n",
       "      <td>Delhi</td>\n",
       "      <td>02h 20m</td>\n",
       "      <td>non-stop</td>\n",
       "      <td>11:10</td>\n",
       "      <td>Mumbai</td>\n",
       "      <td>5,955</td>\n",
       "      <td>economy</td>\n",
       "      <td>zero</td>\n",
       "      <td>NAN</td>\n",
       "    </tr>\n",
       "    <tr>\n",
       "      <th>...</th>\n",
       "      <td>...</td>\n",
       "      <td>...</td>\n",
       "      <td>...</td>\n",
       "      <td>...</td>\n",
       "      <td>...</td>\n",
       "      <td>...</td>\n",
       "      <td>...</td>\n",
       "      <td>...</td>\n",
       "      <td>...</td>\n",
       "      <td>...</td>\n",
       "      <td>...</td>\n",
       "      <td>...</td>\n",
       "      <td>...</td>\n",
       "      <td>...</td>\n",
       "    </tr>\n",
       "    <tr>\n",
       "      <th>300256</th>\n",
       "      <td>31-03-2022</td>\n",
       "      <td>Vistara</td>\n",
       "      <td>UK</td>\n",
       "      <td>822</td>\n",
       "      <td>09:45</td>\n",
       "      <td>Chennai</td>\n",
       "      <td>10h 05m</td>\n",
       "      <td>1-stop\\n\\t\\t\\t\\t\\t\\t\\t\\t\\t\\t\\t\\t\\n\\t\\t\\t\\t\\t\\t...</td>\n",
       "      <td>19:50</td>\n",
       "      <td>Hyderabad</td>\n",
       "      <td>69,265</td>\n",
       "      <td>business</td>\n",
       "      <td>one</td>\n",
       "      <td>NAN</td>\n",
       "    </tr>\n",
       "    <tr>\n",
       "      <th>300257</th>\n",
       "      <td>31-03-2022</td>\n",
       "      <td>Vistara</td>\n",
       "      <td>UK</td>\n",
       "      <td>826</td>\n",
       "      <td>12:30</td>\n",
       "      <td>Chennai</td>\n",
       "      <td>10h 25m</td>\n",
       "      <td>1-stop\\n\\t\\t\\t\\t\\t\\t\\t\\t\\t\\t\\t\\t\\n\\t\\t\\t\\t\\t\\t...</td>\n",
       "      <td>22:55</td>\n",
       "      <td>Hyderabad</td>\n",
       "      <td>77,105</td>\n",
       "      <td>business</td>\n",
       "      <td>one</td>\n",
       "      <td>NAN</td>\n",
       "    </tr>\n",
       "    <tr>\n",
       "      <th>300258</th>\n",
       "      <td>31-03-2022</td>\n",
       "      <td>Vistara</td>\n",
       "      <td>UK</td>\n",
       "      <td>832</td>\n",
       "      <td>07:05</td>\n",
       "      <td>Chennai</td>\n",
       "      <td>13h 50m</td>\n",
       "      <td>1-stop\\n\\t\\t\\t\\t\\t\\t\\t\\t\\t\\t\\t\\t\\n\\t\\t\\t\\t\\t\\t...</td>\n",
       "      <td>20:55</td>\n",
       "      <td>Hyderabad</td>\n",
       "      <td>79,099</td>\n",
       "      <td>business</td>\n",
       "      <td>one</td>\n",
       "      <td>NAN</td>\n",
       "    </tr>\n",
       "    <tr>\n",
       "      <th>300259</th>\n",
       "      <td>31-03-2022</td>\n",
       "      <td>Vistara</td>\n",
       "      <td>UK</td>\n",
       "      <td>828</td>\n",
       "      <td>07:00</td>\n",
       "      <td>Chennai</td>\n",
       "      <td>10h 00m</td>\n",
       "      <td>1-stop\\n\\t\\t\\t\\t\\t\\t\\t\\t\\t\\t\\t\\t\\n\\t\\t\\t\\t\\t\\t...</td>\n",
       "      <td>17:00</td>\n",
       "      <td>Hyderabad</td>\n",
       "      <td>81,585</td>\n",
       "      <td>business</td>\n",
       "      <td>one</td>\n",
       "      <td>NAN</td>\n",
       "    </tr>\n",
       "    <tr>\n",
       "      <th>300260</th>\n",
       "      <td>31-03-2022</td>\n",
       "      <td>Vistara</td>\n",
       "      <td>UK</td>\n",
       "      <td>822</td>\n",
       "      <td>09:45</td>\n",
       "      <td>Chennai</td>\n",
       "      <td>10h 05m</td>\n",
       "      <td>1-stop\\n\\t\\t\\t\\t\\t\\t\\t\\t\\t\\t\\t\\t\\n\\t\\t\\t\\t\\t\\t...</td>\n",
       "      <td>19:50</td>\n",
       "      <td>Hyderabad</td>\n",
       "      <td>81,585</td>\n",
       "      <td>business</td>\n",
       "      <td>one</td>\n",
       "      <td>NAN</td>\n",
       "    </tr>\n",
       "  </tbody>\n",
       "</table>\n",
       "<p>300259 rows × 14 columns</p>\n",
       "</div>"
      ],
      "text/plain": [
       "              date   airline ch_code  num_code dep_time     from time_taken  \\\n",
       "0       11-02-2022  SpiceJet      SG      8709    18:55    Delhi    02h 10m   \n",
       "1       11-02-2022  SpiceJet      SG      8157    06:20    Delhi    02h 20m   \n",
       "2       11-02-2022   AirAsia      I5       764    04:25    Delhi    02h 10m   \n",
       "3       11-02-2022   Vistara      UK       995    10:20    Delhi    02h 15m   \n",
       "4       11-02-2022   Vistara      UK       963    08:50    Delhi    02h 20m   \n",
       "...            ...       ...     ...       ...      ...      ...        ...   \n",
       "300256  31-03-2022   Vistara      UK       822    09:45  Chennai    10h 05m   \n",
       "300257  31-03-2022   Vistara      UK       826    12:30  Chennai    10h 25m   \n",
       "300258  31-03-2022   Vistara      UK       832    07:05  Chennai    13h 50m   \n",
       "300259  31-03-2022   Vistara      UK       828    07:00  Chennai    10h 00m   \n",
       "300260  31-03-2022   Vistara      UK       822    09:45  Chennai    10h 05m   \n",
       "\n",
       "                                                     stop arr_time         to  \\\n",
       "0                                               non-stop     21:05     Mumbai   \n",
       "1                                               non-stop     08:40     Mumbai   \n",
       "2                                               non-stop     06:35     Mumbai   \n",
       "3                                               non-stop     12:35     Mumbai   \n",
       "4                                               non-stop     11:10     Mumbai   \n",
       "...                                                   ...      ...        ...   \n",
       "300256  1-stop\\n\\t\\t\\t\\t\\t\\t\\t\\t\\t\\t\\t\\t\\n\\t\\t\\t\\t\\t\\t...    19:50  Hyderabad   \n",
       "300257  1-stop\\n\\t\\t\\t\\t\\t\\t\\t\\t\\t\\t\\t\\t\\n\\t\\t\\t\\t\\t\\t...    22:55  Hyderabad   \n",
       "300258  1-stop\\n\\t\\t\\t\\t\\t\\t\\t\\t\\t\\t\\t\\t\\n\\t\\t\\t\\t\\t\\t...    20:55  Hyderabad   \n",
       "300259  1-stop\\n\\t\\t\\t\\t\\t\\t\\t\\t\\t\\t\\t\\t\\n\\t\\t\\t\\t\\t\\t...    17:00  Hyderabad   \n",
       "300260  1-stop\\n\\t\\t\\t\\t\\t\\t\\t\\t\\t\\t\\t\\t\\n\\t\\t\\t\\t\\t\\t...    19:50  Hyderabad   \n",
       "\n",
       "         price     class stops stops_via  \n",
       "0        5,953   economy  zero       NAN  \n",
       "1        5,953   economy  zero       NAN  \n",
       "2        5,956   economy  zero       NAN  \n",
       "3        5,955   economy  zero       NAN  \n",
       "4        5,955   economy  zero       NAN  \n",
       "...        ...       ...   ...       ...  \n",
       "300256  69,265  business   one       NAN  \n",
       "300257  77,105  business   one       NAN  \n",
       "300258  79,099  business   one       NAN  \n",
       "300259  81,585  business   one       NAN  \n",
       "300260  81,585  business   one       NAN  \n",
       "\n",
       "[300259 rows x 14 columns]"
      ]
     },
     "execution_count": 12,
     "metadata": {},
     "output_type": "execute_result"
    }
   ],
   "source": [
    "data"
   ]
  },
  {
   "cell_type": "code",
   "execution_count": 15,
   "id": "e4130819",
   "metadata": {
    "scrolled": true
   },
   "outputs": [
    {
     "data": {
      "text/plain": [
       "one            250927\n",
       "zero            36044\n",
       "two_or_more     13288\n",
       "Name: stops, dtype: int64"
      ]
     },
     "execution_count": 15,
     "metadata": {},
     "output_type": "execute_result"
    }
   ],
   "source": [
    "data['stops'].value_counts()"
   ]
  },
  {
   "cell_type": "markdown",
   "id": "52f11d4f",
   "metadata": {},
   "source": [
    "### string hours convert into integer minute on 'time_taken' column and create new column 'time_min'"
   ]
  },
  {
   "cell_type": "code",
   "execution_count": 16,
   "id": "a43d5afa",
   "metadata": {},
   "outputs": [],
   "source": [
    "def time_min(timming):\n",
    "    timming = timming.replace('h','').replace('m','')\n",
    "    \n",
    "    if len(timming.split())==1:\n",
    "        timming = timming.split('.')\n",
    "    else:\n",
    "        timming = timming.split()\n",
    "        \n",
    "    timming = int(timming[0])*60 + int(timming[1])\n",
    "\n",
    "    return timming"
   ]
  },
  {
   "cell_type": "code",
   "execution_count": 17,
   "id": "79a21140",
   "metadata": {},
   "outputs": [],
   "source": [
    "data['time_min']=data['time_taken'].apply(time_min)"
   ]
  },
  {
   "cell_type": "code",
   "execution_count": 18,
   "id": "7f57aba3",
   "metadata": {},
   "outputs": [
    {
     "data": {
      "text/html": [
       "<div>\n",
       "<style scoped>\n",
       "    .dataframe tbody tr th:only-of-type {\n",
       "        vertical-align: middle;\n",
       "    }\n",
       "\n",
       "    .dataframe tbody tr th {\n",
       "        vertical-align: top;\n",
       "    }\n",
       "\n",
       "    .dataframe thead th {\n",
       "        text-align: right;\n",
       "    }\n",
       "</style>\n",
       "<table border=\"1\" class=\"dataframe\">\n",
       "  <thead>\n",
       "    <tr style=\"text-align: right;\">\n",
       "      <th></th>\n",
       "      <th>date</th>\n",
       "      <th>airline</th>\n",
       "      <th>ch_code</th>\n",
       "      <th>num_code</th>\n",
       "      <th>dep_time</th>\n",
       "      <th>from</th>\n",
       "      <th>time_taken</th>\n",
       "      <th>stop</th>\n",
       "      <th>arr_time</th>\n",
       "      <th>to</th>\n",
       "      <th>price</th>\n",
       "      <th>class</th>\n",
       "      <th>stops</th>\n",
       "      <th>stops_via</th>\n",
       "      <th>time_min</th>\n",
       "    </tr>\n",
       "  </thead>\n",
       "  <tbody>\n",
       "    <tr>\n",
       "      <th>0</th>\n",
       "      <td>11-02-2022</td>\n",
       "      <td>SpiceJet</td>\n",
       "      <td>SG</td>\n",
       "      <td>8709</td>\n",
       "      <td>18:55</td>\n",
       "      <td>Delhi</td>\n",
       "      <td>02h 10m</td>\n",
       "      <td>non-stop</td>\n",
       "      <td>21:05</td>\n",
       "      <td>Mumbai</td>\n",
       "      <td>5,953</td>\n",
       "      <td>economy</td>\n",
       "      <td>zero</td>\n",
       "      <td>NAN</td>\n",
       "      <td>130</td>\n",
       "    </tr>\n",
       "    <tr>\n",
       "      <th>1</th>\n",
       "      <td>11-02-2022</td>\n",
       "      <td>SpiceJet</td>\n",
       "      <td>SG</td>\n",
       "      <td>8157</td>\n",
       "      <td>06:20</td>\n",
       "      <td>Delhi</td>\n",
       "      <td>02h 20m</td>\n",
       "      <td>non-stop</td>\n",
       "      <td>08:40</td>\n",
       "      <td>Mumbai</td>\n",
       "      <td>5,953</td>\n",
       "      <td>economy</td>\n",
       "      <td>zero</td>\n",
       "      <td>NAN</td>\n",
       "      <td>140</td>\n",
       "    </tr>\n",
       "  </tbody>\n",
       "</table>\n",
       "</div>"
      ],
      "text/plain": [
       "         date   airline ch_code  num_code dep_time   from time_taken  \\\n",
       "0  11-02-2022  SpiceJet      SG      8709    18:55  Delhi    02h 10m   \n",
       "1  11-02-2022  SpiceJet      SG      8157    06:20  Delhi    02h 20m   \n",
       "\n",
       "        stop arr_time      to  price    class stops stops_via  time_min  \n",
       "0  non-stop     21:05  Mumbai  5,953  economy  zero       NAN       130  \n",
       "1  non-stop     08:40  Mumbai  5,953  economy  zero       NAN       140  "
      ]
     },
     "execution_count": 18,
     "metadata": {},
     "output_type": "execute_result"
    }
   ],
   "source": [
    "data.head(2)"
   ]
  },
  {
   "cell_type": "markdown",
   "id": "0965a7f9",
   "metadata": {},
   "source": [
    "### 'ch_code' and 'num_code' merge and create new column 'flight'"
   ]
  },
  {
   "cell_type": "code",
   "execution_count": 20,
   "id": "353ce729",
   "metadata": {},
   "outputs": [
    {
     "data": {
      "text/plain": [
       "'SG-8709'"
      ]
     },
     "execution_count": 20,
     "metadata": {},
     "output_type": "execute_result"
    }
   ],
   "source": [
    "data['ch_code'][0] + \"-\" + str(data['num_code'][0])"
   ]
  },
  {
   "cell_type": "code",
   "execution_count": 21,
   "id": "84d38bf4",
   "metadata": {},
   "outputs": [],
   "source": [
    "def codemake(x,y):\n",
    "    return x + \"-\" + str(y)"
   ]
  },
  {
   "cell_type": "code",
   "execution_count": 22,
   "id": "c106ad2f",
   "metadata": {},
   "outputs": [],
   "source": [
    "data['flight']=data[['ch_code','num_code']].apply(lambda x: codemake(*x),axis=1)"
   ]
  },
  {
   "cell_type": "code",
   "execution_count": 23,
   "id": "3ccac53a",
   "metadata": {},
   "outputs": [
    {
     "data": {
      "text/html": [
       "<div>\n",
       "<style scoped>\n",
       "    .dataframe tbody tr th:only-of-type {\n",
       "        vertical-align: middle;\n",
       "    }\n",
       "\n",
       "    .dataframe tbody tr th {\n",
       "        vertical-align: top;\n",
       "    }\n",
       "\n",
       "    .dataframe thead th {\n",
       "        text-align: right;\n",
       "    }\n",
       "</style>\n",
       "<table border=\"1\" class=\"dataframe\">\n",
       "  <thead>\n",
       "    <tr style=\"text-align: right;\">\n",
       "      <th></th>\n",
       "      <th>date</th>\n",
       "      <th>airline</th>\n",
       "      <th>ch_code</th>\n",
       "      <th>num_code</th>\n",
       "      <th>dep_time</th>\n",
       "      <th>from</th>\n",
       "      <th>time_taken</th>\n",
       "      <th>stop</th>\n",
       "      <th>arr_time</th>\n",
       "      <th>to</th>\n",
       "      <th>price</th>\n",
       "      <th>class</th>\n",
       "      <th>stops</th>\n",
       "      <th>stops_via</th>\n",
       "      <th>time_min</th>\n",
       "      <th>flight</th>\n",
       "    </tr>\n",
       "  </thead>\n",
       "  <tbody>\n",
       "    <tr>\n",
       "      <th>0</th>\n",
       "      <td>11-02-2022</td>\n",
       "      <td>SpiceJet</td>\n",
       "      <td>SG</td>\n",
       "      <td>8709</td>\n",
       "      <td>18:55</td>\n",
       "      <td>Delhi</td>\n",
       "      <td>02h 10m</td>\n",
       "      <td>non-stop</td>\n",
       "      <td>21:05</td>\n",
       "      <td>Mumbai</td>\n",
       "      <td>5,953</td>\n",
       "      <td>economy</td>\n",
       "      <td>zero</td>\n",
       "      <td>NAN</td>\n",
       "      <td>130</td>\n",
       "      <td>SG-8709</td>\n",
       "    </tr>\n",
       "    <tr>\n",
       "      <th>1</th>\n",
       "      <td>11-02-2022</td>\n",
       "      <td>SpiceJet</td>\n",
       "      <td>SG</td>\n",
       "      <td>8157</td>\n",
       "      <td>06:20</td>\n",
       "      <td>Delhi</td>\n",
       "      <td>02h 20m</td>\n",
       "      <td>non-stop</td>\n",
       "      <td>08:40</td>\n",
       "      <td>Mumbai</td>\n",
       "      <td>5,953</td>\n",
       "      <td>economy</td>\n",
       "      <td>zero</td>\n",
       "      <td>NAN</td>\n",
       "      <td>140</td>\n",
       "      <td>SG-8157</td>\n",
       "    </tr>\n",
       "    <tr>\n",
       "      <th>2</th>\n",
       "      <td>11-02-2022</td>\n",
       "      <td>AirAsia</td>\n",
       "      <td>I5</td>\n",
       "      <td>764</td>\n",
       "      <td>04:25</td>\n",
       "      <td>Delhi</td>\n",
       "      <td>02h 10m</td>\n",
       "      <td>non-stop</td>\n",
       "      <td>06:35</td>\n",
       "      <td>Mumbai</td>\n",
       "      <td>5,956</td>\n",
       "      <td>economy</td>\n",
       "      <td>zero</td>\n",
       "      <td>NAN</td>\n",
       "      <td>130</td>\n",
       "      <td>I5-764</td>\n",
       "    </tr>\n",
       "    <tr>\n",
       "      <th>3</th>\n",
       "      <td>11-02-2022</td>\n",
       "      <td>Vistara</td>\n",
       "      <td>UK</td>\n",
       "      <td>995</td>\n",
       "      <td>10:20</td>\n",
       "      <td>Delhi</td>\n",
       "      <td>02h 15m</td>\n",
       "      <td>non-stop</td>\n",
       "      <td>12:35</td>\n",
       "      <td>Mumbai</td>\n",
       "      <td>5,955</td>\n",
       "      <td>economy</td>\n",
       "      <td>zero</td>\n",
       "      <td>NAN</td>\n",
       "      <td>135</td>\n",
       "      <td>UK-995</td>\n",
       "    </tr>\n",
       "    <tr>\n",
       "      <th>4</th>\n",
       "      <td>11-02-2022</td>\n",
       "      <td>Vistara</td>\n",
       "      <td>UK</td>\n",
       "      <td>963</td>\n",
       "      <td>08:50</td>\n",
       "      <td>Delhi</td>\n",
       "      <td>02h 20m</td>\n",
       "      <td>non-stop</td>\n",
       "      <td>11:10</td>\n",
       "      <td>Mumbai</td>\n",
       "      <td>5,955</td>\n",
       "      <td>economy</td>\n",
       "      <td>zero</td>\n",
       "      <td>NAN</td>\n",
       "      <td>140</td>\n",
       "      <td>UK-963</td>\n",
       "    </tr>\n",
       "    <tr>\n",
       "      <th>...</th>\n",
       "      <td>...</td>\n",
       "      <td>...</td>\n",
       "      <td>...</td>\n",
       "      <td>...</td>\n",
       "      <td>...</td>\n",
       "      <td>...</td>\n",
       "      <td>...</td>\n",
       "      <td>...</td>\n",
       "      <td>...</td>\n",
       "      <td>...</td>\n",
       "      <td>...</td>\n",
       "      <td>...</td>\n",
       "      <td>...</td>\n",
       "      <td>...</td>\n",
       "      <td>...</td>\n",
       "      <td>...</td>\n",
       "    </tr>\n",
       "    <tr>\n",
       "      <th>300256</th>\n",
       "      <td>31-03-2022</td>\n",
       "      <td>Vistara</td>\n",
       "      <td>UK</td>\n",
       "      <td>822</td>\n",
       "      <td>09:45</td>\n",
       "      <td>Chennai</td>\n",
       "      <td>10h 05m</td>\n",
       "      <td>1-stop\\n\\t\\t\\t\\t\\t\\t\\t\\t\\t\\t\\t\\t\\n\\t\\t\\t\\t\\t\\t...</td>\n",
       "      <td>19:50</td>\n",
       "      <td>Hyderabad</td>\n",
       "      <td>69,265</td>\n",
       "      <td>business</td>\n",
       "      <td>one</td>\n",
       "      <td>NAN</td>\n",
       "      <td>605</td>\n",
       "      <td>UK-822</td>\n",
       "    </tr>\n",
       "    <tr>\n",
       "      <th>300257</th>\n",
       "      <td>31-03-2022</td>\n",
       "      <td>Vistara</td>\n",
       "      <td>UK</td>\n",
       "      <td>826</td>\n",
       "      <td>12:30</td>\n",
       "      <td>Chennai</td>\n",
       "      <td>10h 25m</td>\n",
       "      <td>1-stop\\n\\t\\t\\t\\t\\t\\t\\t\\t\\t\\t\\t\\t\\n\\t\\t\\t\\t\\t\\t...</td>\n",
       "      <td>22:55</td>\n",
       "      <td>Hyderabad</td>\n",
       "      <td>77,105</td>\n",
       "      <td>business</td>\n",
       "      <td>one</td>\n",
       "      <td>NAN</td>\n",
       "      <td>625</td>\n",
       "      <td>UK-826</td>\n",
       "    </tr>\n",
       "    <tr>\n",
       "      <th>300258</th>\n",
       "      <td>31-03-2022</td>\n",
       "      <td>Vistara</td>\n",
       "      <td>UK</td>\n",
       "      <td>832</td>\n",
       "      <td>07:05</td>\n",
       "      <td>Chennai</td>\n",
       "      <td>13h 50m</td>\n",
       "      <td>1-stop\\n\\t\\t\\t\\t\\t\\t\\t\\t\\t\\t\\t\\t\\n\\t\\t\\t\\t\\t\\t...</td>\n",
       "      <td>20:55</td>\n",
       "      <td>Hyderabad</td>\n",
       "      <td>79,099</td>\n",
       "      <td>business</td>\n",
       "      <td>one</td>\n",
       "      <td>NAN</td>\n",
       "      <td>830</td>\n",
       "      <td>UK-832</td>\n",
       "    </tr>\n",
       "    <tr>\n",
       "      <th>300259</th>\n",
       "      <td>31-03-2022</td>\n",
       "      <td>Vistara</td>\n",
       "      <td>UK</td>\n",
       "      <td>828</td>\n",
       "      <td>07:00</td>\n",
       "      <td>Chennai</td>\n",
       "      <td>10h 00m</td>\n",
       "      <td>1-stop\\n\\t\\t\\t\\t\\t\\t\\t\\t\\t\\t\\t\\t\\n\\t\\t\\t\\t\\t\\t...</td>\n",
       "      <td>17:00</td>\n",
       "      <td>Hyderabad</td>\n",
       "      <td>81,585</td>\n",
       "      <td>business</td>\n",
       "      <td>one</td>\n",
       "      <td>NAN</td>\n",
       "      <td>600</td>\n",
       "      <td>UK-828</td>\n",
       "    </tr>\n",
       "    <tr>\n",
       "      <th>300260</th>\n",
       "      <td>31-03-2022</td>\n",
       "      <td>Vistara</td>\n",
       "      <td>UK</td>\n",
       "      <td>822</td>\n",
       "      <td>09:45</td>\n",
       "      <td>Chennai</td>\n",
       "      <td>10h 05m</td>\n",
       "      <td>1-stop\\n\\t\\t\\t\\t\\t\\t\\t\\t\\t\\t\\t\\t\\n\\t\\t\\t\\t\\t\\t...</td>\n",
       "      <td>19:50</td>\n",
       "      <td>Hyderabad</td>\n",
       "      <td>81,585</td>\n",
       "      <td>business</td>\n",
       "      <td>one</td>\n",
       "      <td>NAN</td>\n",
       "      <td>605</td>\n",
       "      <td>UK-822</td>\n",
       "    </tr>\n",
       "  </tbody>\n",
       "</table>\n",
       "<p>300259 rows × 16 columns</p>\n",
       "</div>"
      ],
      "text/plain": [
       "              date   airline ch_code  num_code dep_time     from time_taken  \\\n",
       "0       11-02-2022  SpiceJet      SG      8709    18:55    Delhi    02h 10m   \n",
       "1       11-02-2022  SpiceJet      SG      8157    06:20    Delhi    02h 20m   \n",
       "2       11-02-2022   AirAsia      I5       764    04:25    Delhi    02h 10m   \n",
       "3       11-02-2022   Vistara      UK       995    10:20    Delhi    02h 15m   \n",
       "4       11-02-2022   Vistara      UK       963    08:50    Delhi    02h 20m   \n",
       "...            ...       ...     ...       ...      ...      ...        ...   \n",
       "300256  31-03-2022   Vistara      UK       822    09:45  Chennai    10h 05m   \n",
       "300257  31-03-2022   Vistara      UK       826    12:30  Chennai    10h 25m   \n",
       "300258  31-03-2022   Vistara      UK       832    07:05  Chennai    13h 50m   \n",
       "300259  31-03-2022   Vistara      UK       828    07:00  Chennai    10h 00m   \n",
       "300260  31-03-2022   Vistara      UK       822    09:45  Chennai    10h 05m   \n",
       "\n",
       "                                                     stop arr_time         to  \\\n",
       "0                                               non-stop     21:05     Mumbai   \n",
       "1                                               non-stop     08:40     Mumbai   \n",
       "2                                               non-stop     06:35     Mumbai   \n",
       "3                                               non-stop     12:35     Mumbai   \n",
       "4                                               non-stop     11:10     Mumbai   \n",
       "...                                                   ...      ...        ...   \n",
       "300256  1-stop\\n\\t\\t\\t\\t\\t\\t\\t\\t\\t\\t\\t\\t\\n\\t\\t\\t\\t\\t\\t...    19:50  Hyderabad   \n",
       "300257  1-stop\\n\\t\\t\\t\\t\\t\\t\\t\\t\\t\\t\\t\\t\\n\\t\\t\\t\\t\\t\\t...    22:55  Hyderabad   \n",
       "300258  1-stop\\n\\t\\t\\t\\t\\t\\t\\t\\t\\t\\t\\t\\t\\n\\t\\t\\t\\t\\t\\t...    20:55  Hyderabad   \n",
       "300259  1-stop\\n\\t\\t\\t\\t\\t\\t\\t\\t\\t\\t\\t\\t\\n\\t\\t\\t\\t\\t\\t...    17:00  Hyderabad   \n",
       "300260  1-stop\\n\\t\\t\\t\\t\\t\\t\\t\\t\\t\\t\\t\\t\\n\\t\\t\\t\\t\\t\\t...    19:50  Hyderabad   \n",
       "\n",
       "         price     class stops stops_via  time_min   flight  \n",
       "0        5,953   economy  zero       NAN       130  SG-8709  \n",
       "1        5,953   economy  zero       NAN       140  SG-8157  \n",
       "2        5,956   economy  zero       NAN       130   I5-764  \n",
       "3        5,955   economy  zero       NAN       135   UK-995  \n",
       "4        5,955   economy  zero       NAN       140   UK-963  \n",
       "...        ...       ...   ...       ...       ...      ...  \n",
       "300256  69,265  business   one       NAN       605   UK-822  \n",
       "300257  77,105  business   one       NAN       625   UK-826  \n",
       "300258  79,099  business   one       NAN       830   UK-832  \n",
       "300259  81,585  business   one       NAN       600   UK-828  \n",
       "300260  81,585  business   one       NAN       605   UK-822  \n",
       "\n",
       "[300259 rows x 16 columns]"
      ]
     },
     "execution_count": 23,
     "metadata": {},
     "output_type": "execute_result"
    }
   ],
   "source": [
    "data"
   ]
  },
  {
   "cell_type": "markdown",
   "id": "8c429877",
   "metadata": {},
   "source": [
    "#### Based on 'dep_time' and 'arr_time' convert into day from like(early morning, morning, evening, afternon, night)"
   ]
  },
  {
   "cell_type": "code",
   "execution_count": 25,
   "id": "f0048ebd",
   "metadata": {},
   "outputs": [],
   "source": [
    "# 4 - 7 early morning\n",
    "# 7 - 12  morning\n",
    "# 12 - 17 afternoon\n",
    "# 17 - 20 evening\n",
    "# 20 - 4 night"
   ]
  },
  {
   "cell_type": "code",
   "execution_count": 26,
   "id": "54bd719f",
   "metadata": {},
   "outputs": [],
   "source": [
    "def deptime(tmm):\n",
    "    tmm = int(tmm.split(\":\")[0])\n",
    "    if tmm >= 7 and tmm <12:\n",
    "        day = 'Morning'\n",
    "    elif tmm >=12 and tmm<17:\n",
    "        day = 'Afternoon'\n",
    "    elif tmm >=17 and tmm<20:\n",
    "        day = 'Evening'\n",
    "    elif tmm >=20 and tmm <4:\n",
    "        day = \"Night\"\n",
    "    else:\n",
    "        day = 'Early morning'\n",
    "    return day"
   ]
  },
  {
   "cell_type": "code",
   "execution_count": 27,
   "id": "deb36bb1",
   "metadata": {},
   "outputs": [],
   "source": [
    "data['departure_time'] = data['dep_time'].apply(deptime)"
   ]
  },
  {
   "cell_type": "code",
   "execution_count": 28,
   "id": "10f75e54",
   "metadata": {},
   "outputs": [],
   "source": [
    "data['arrival_time'] = data['arr_time'].apply(deptime)"
   ]
  },
  {
   "cell_type": "markdown",
   "id": "a72ca338",
   "metadata": {},
   "source": [
    "### Convert string 'price' column into integer"
   ]
  },
  {
   "cell_type": "code",
   "execution_count": 31,
   "id": "e1db9be2",
   "metadata": {},
   "outputs": [
    {
     "data": {
      "text/plain": [
       "'5953'"
      ]
     },
     "execution_count": 31,
     "metadata": {},
     "output_type": "execute_result"
    }
   ],
   "source": [
    "data['price'][0].replace(',','')"
   ]
  },
  {
   "cell_type": "code",
   "execution_count": 32,
   "id": "7e288c85",
   "metadata": {},
   "outputs": [],
   "source": [
    "data['price'] = data['price'].apply(lambda x: int(x.replace(',','')) )"
   ]
  },
  {
   "cell_type": "markdown",
   "id": "001edd0b",
   "metadata": {},
   "source": [
    "### Drop unnecessary columns"
   ]
  },
  {
   "cell_type": "code",
   "execution_count": 33,
   "id": "c2a9020f",
   "metadata": {},
   "outputs": [],
   "source": [
    "data.drop([\n",
    "    'ch_code',\n",
    "    'num_code',\n",
    "    'time_taken',\n",
    "    'date',\n",
    "    'stop'],\n",
    "    axis=1,\n",
    "    inplace=True\n",
    ") "
   ]
  },
  {
   "cell_type": "markdown",
   "id": "c84fe2c1",
   "metadata": {},
   "source": [
    "### Here is final cleaned data"
   ]
  },
  {
   "cell_type": "code",
   "execution_count": 35,
   "id": "a99516d8",
   "metadata": {},
   "outputs": [
    {
     "data": {
      "text/html": [
       "<div>\n",
       "<style scoped>\n",
       "    .dataframe tbody tr th:only-of-type {\n",
       "        vertical-align: middle;\n",
       "    }\n",
       "\n",
       "    .dataframe tbody tr th {\n",
       "        vertical-align: top;\n",
       "    }\n",
       "\n",
       "    .dataframe thead th {\n",
       "        text-align: right;\n",
       "    }\n",
       "</style>\n",
       "<table border=\"1\" class=\"dataframe\">\n",
       "  <thead>\n",
       "    <tr style=\"text-align: right;\">\n",
       "      <th></th>\n",
       "      <th>airline</th>\n",
       "      <th>dep_time</th>\n",
       "      <th>from</th>\n",
       "      <th>arr_time</th>\n",
       "      <th>to</th>\n",
       "      <th>price</th>\n",
       "      <th>class</th>\n",
       "      <th>stops</th>\n",
       "      <th>stops_via</th>\n",
       "      <th>time_min</th>\n",
       "      <th>flight</th>\n",
       "      <th>departure_time</th>\n",
       "      <th>arrival_time</th>\n",
       "    </tr>\n",
       "  </thead>\n",
       "  <tbody>\n",
       "    <tr>\n",
       "      <th>0</th>\n",
       "      <td>SpiceJet</td>\n",
       "      <td>18:55</td>\n",
       "      <td>Delhi</td>\n",
       "      <td>21:05</td>\n",
       "      <td>Mumbai</td>\n",
       "      <td>5953</td>\n",
       "      <td>economy</td>\n",
       "      <td>zero</td>\n",
       "      <td>NAN</td>\n",
       "      <td>130</td>\n",
       "      <td>SG-8709</td>\n",
       "      <td>Evening</td>\n",
       "      <td>Early morning</td>\n",
       "    </tr>\n",
       "    <tr>\n",
       "      <th>1</th>\n",
       "      <td>SpiceJet</td>\n",
       "      <td>06:20</td>\n",
       "      <td>Delhi</td>\n",
       "      <td>08:40</td>\n",
       "      <td>Mumbai</td>\n",
       "      <td>5953</td>\n",
       "      <td>economy</td>\n",
       "      <td>zero</td>\n",
       "      <td>NAN</td>\n",
       "      <td>140</td>\n",
       "      <td>SG-8157</td>\n",
       "      <td>Early morning</td>\n",
       "      <td>Morning</td>\n",
       "    </tr>\n",
       "    <tr>\n",
       "      <th>2</th>\n",
       "      <td>AirAsia</td>\n",
       "      <td>04:25</td>\n",
       "      <td>Delhi</td>\n",
       "      <td>06:35</td>\n",
       "      <td>Mumbai</td>\n",
       "      <td>5956</td>\n",
       "      <td>economy</td>\n",
       "      <td>zero</td>\n",
       "      <td>NAN</td>\n",
       "      <td>130</td>\n",
       "      <td>I5-764</td>\n",
       "      <td>Early morning</td>\n",
       "      <td>Early morning</td>\n",
       "    </tr>\n",
       "    <tr>\n",
       "      <th>3</th>\n",
       "      <td>Vistara</td>\n",
       "      <td>10:20</td>\n",
       "      <td>Delhi</td>\n",
       "      <td>12:35</td>\n",
       "      <td>Mumbai</td>\n",
       "      <td>5955</td>\n",
       "      <td>economy</td>\n",
       "      <td>zero</td>\n",
       "      <td>NAN</td>\n",
       "      <td>135</td>\n",
       "      <td>UK-995</td>\n",
       "      <td>Morning</td>\n",
       "      <td>Afternoon</td>\n",
       "    </tr>\n",
       "    <tr>\n",
       "      <th>4</th>\n",
       "      <td>Vistara</td>\n",
       "      <td>08:50</td>\n",
       "      <td>Delhi</td>\n",
       "      <td>11:10</td>\n",
       "      <td>Mumbai</td>\n",
       "      <td>5955</td>\n",
       "      <td>economy</td>\n",
       "      <td>zero</td>\n",
       "      <td>NAN</td>\n",
       "      <td>140</td>\n",
       "      <td>UK-963</td>\n",
       "      <td>Morning</td>\n",
       "      <td>Morning</td>\n",
       "    </tr>\n",
       "    <tr>\n",
       "      <th>...</th>\n",
       "      <td>...</td>\n",
       "      <td>...</td>\n",
       "      <td>...</td>\n",
       "      <td>...</td>\n",
       "      <td>...</td>\n",
       "      <td>...</td>\n",
       "      <td>...</td>\n",
       "      <td>...</td>\n",
       "      <td>...</td>\n",
       "      <td>...</td>\n",
       "      <td>...</td>\n",
       "      <td>...</td>\n",
       "      <td>...</td>\n",
       "    </tr>\n",
       "    <tr>\n",
       "      <th>300256</th>\n",
       "      <td>Vistara</td>\n",
       "      <td>09:45</td>\n",
       "      <td>Chennai</td>\n",
       "      <td>19:50</td>\n",
       "      <td>Hyderabad</td>\n",
       "      <td>69265</td>\n",
       "      <td>business</td>\n",
       "      <td>one</td>\n",
       "      <td>NAN</td>\n",
       "      <td>605</td>\n",
       "      <td>UK-822</td>\n",
       "      <td>Morning</td>\n",
       "      <td>Evening</td>\n",
       "    </tr>\n",
       "    <tr>\n",
       "      <th>300257</th>\n",
       "      <td>Vistara</td>\n",
       "      <td>12:30</td>\n",
       "      <td>Chennai</td>\n",
       "      <td>22:55</td>\n",
       "      <td>Hyderabad</td>\n",
       "      <td>77105</td>\n",
       "      <td>business</td>\n",
       "      <td>one</td>\n",
       "      <td>NAN</td>\n",
       "      <td>625</td>\n",
       "      <td>UK-826</td>\n",
       "      <td>Afternoon</td>\n",
       "      <td>Early morning</td>\n",
       "    </tr>\n",
       "    <tr>\n",
       "      <th>300258</th>\n",
       "      <td>Vistara</td>\n",
       "      <td>07:05</td>\n",
       "      <td>Chennai</td>\n",
       "      <td>20:55</td>\n",
       "      <td>Hyderabad</td>\n",
       "      <td>79099</td>\n",
       "      <td>business</td>\n",
       "      <td>one</td>\n",
       "      <td>NAN</td>\n",
       "      <td>830</td>\n",
       "      <td>UK-832</td>\n",
       "      <td>Morning</td>\n",
       "      <td>Early morning</td>\n",
       "    </tr>\n",
       "    <tr>\n",
       "      <th>300259</th>\n",
       "      <td>Vistara</td>\n",
       "      <td>07:00</td>\n",
       "      <td>Chennai</td>\n",
       "      <td>17:00</td>\n",
       "      <td>Hyderabad</td>\n",
       "      <td>81585</td>\n",
       "      <td>business</td>\n",
       "      <td>one</td>\n",
       "      <td>NAN</td>\n",
       "      <td>600</td>\n",
       "      <td>UK-828</td>\n",
       "      <td>Morning</td>\n",
       "      <td>Evening</td>\n",
       "    </tr>\n",
       "    <tr>\n",
       "      <th>300260</th>\n",
       "      <td>Vistara</td>\n",
       "      <td>09:45</td>\n",
       "      <td>Chennai</td>\n",
       "      <td>19:50</td>\n",
       "      <td>Hyderabad</td>\n",
       "      <td>81585</td>\n",
       "      <td>business</td>\n",
       "      <td>one</td>\n",
       "      <td>NAN</td>\n",
       "      <td>605</td>\n",
       "      <td>UK-822</td>\n",
       "      <td>Morning</td>\n",
       "      <td>Evening</td>\n",
       "    </tr>\n",
       "  </tbody>\n",
       "</table>\n",
       "<p>300259 rows × 13 columns</p>\n",
       "</div>"
      ],
      "text/plain": [
       "         airline dep_time     from arr_time         to  price     class stops  \\\n",
       "0       SpiceJet    18:55    Delhi    21:05     Mumbai   5953   economy  zero   \n",
       "1       SpiceJet    06:20    Delhi    08:40     Mumbai   5953   economy  zero   \n",
       "2        AirAsia    04:25    Delhi    06:35     Mumbai   5956   economy  zero   \n",
       "3        Vistara    10:20    Delhi    12:35     Mumbai   5955   economy  zero   \n",
       "4        Vistara    08:50    Delhi    11:10     Mumbai   5955   economy  zero   \n",
       "...          ...      ...      ...      ...        ...    ...       ...   ...   \n",
       "300256   Vistara    09:45  Chennai    19:50  Hyderabad  69265  business   one   \n",
       "300257   Vistara    12:30  Chennai    22:55  Hyderabad  77105  business   one   \n",
       "300258   Vistara    07:05  Chennai    20:55  Hyderabad  79099  business   one   \n",
       "300259   Vistara    07:00  Chennai    17:00  Hyderabad  81585  business   one   \n",
       "300260   Vistara    09:45  Chennai    19:50  Hyderabad  81585  business   one   \n",
       "\n",
       "       stops_via  time_min   flight departure_time   arrival_time  \n",
       "0            NAN       130  SG-8709        Evening  Early morning  \n",
       "1            NAN       140  SG-8157  Early morning        Morning  \n",
       "2            NAN       130   I5-764  Early morning  Early morning  \n",
       "3            NAN       135   UK-995        Morning      Afternoon  \n",
       "4            NAN       140   UK-963        Morning        Morning  \n",
       "...          ...       ...      ...            ...            ...  \n",
       "300256       NAN       605   UK-822        Morning        Evening  \n",
       "300257       NAN       625   UK-826      Afternoon  Early morning  \n",
       "300258       NAN       830   UK-832        Morning  Early morning  \n",
       "300259       NAN       600   UK-828        Morning        Evening  \n",
       "300260       NAN       605   UK-822        Morning        Evening  \n",
       "\n",
       "[300259 rows x 13 columns]"
      ]
     },
     "execution_count": 35,
     "metadata": {},
     "output_type": "execute_result"
    }
   ],
   "source": [
    "data"
   ]
  },
  {
   "cell_type": "markdown",
   "id": "a7e7ebde",
   "metadata": {},
   "source": [
    "# Data Cleaning Process - End"
   ]
  },
  {
   "cell_type": "markdown",
   "id": "8a5c9c33",
   "metadata": {},
   "source": [
    "# 2) EDA Process -  Start"
   ]
  },
  {
   "cell_type": "code",
   "execution_count": 36,
   "id": "a6093a20",
   "metadata": {},
   "outputs": [
    {
     "name": "stdout",
     "output_type": "stream",
     "text": [
      "<class 'pandas.core.frame.DataFrame'>\n",
      "Int64Index: 300259 entries, 0 to 300260\n",
      "Data columns (total 13 columns):\n",
      " #   Column          Non-Null Count   Dtype \n",
      "---  ------          --------------   ----- \n",
      " 0   airline         300259 non-null  object\n",
      " 1   dep_time        300259 non-null  object\n",
      " 2   from            300259 non-null  object\n",
      " 3   arr_time        300259 non-null  object\n",
      " 4   to              300259 non-null  object\n",
      " 5   price           300259 non-null  int64 \n",
      " 6   class           300259 non-null  object\n",
      " 7   stops           300259 non-null  object\n",
      " 8   stops_via       300259 non-null  object\n",
      " 9   time_min        300259 non-null  int64 \n",
      " 10  flight          300259 non-null  object\n",
      " 11  departure_time  300259 non-null  object\n",
      " 12  arrival_time    300259 non-null  object\n",
      "dtypes: int64(2), object(11)\n",
      "memory usage: 40.1+ MB\n"
     ]
    }
   ],
   "source": [
    "data.info()"
   ]
  },
  {
   "cell_type": "markdown",
   "id": "508faa3b",
   "metadata": {},
   "source": [
    "### Missing value find"
   ]
  },
  {
   "cell_type": "code",
   "execution_count": 37,
   "id": "4da3b5c3",
   "metadata": {},
   "outputs": [
    {
     "data": {
      "text/html": [
       "<div>\n",
       "<style scoped>\n",
       "    .dataframe tbody tr th:only-of-type {\n",
       "        vertical-align: middle;\n",
       "    }\n",
       "\n",
       "    .dataframe tbody tr th {\n",
       "        vertical-align: top;\n",
       "    }\n",
       "\n",
       "    .dataframe thead th {\n",
       "        text-align: right;\n",
       "    }\n",
       "</style>\n",
       "<table border=\"1\" class=\"dataframe\">\n",
       "  <thead>\n",
       "    <tr style=\"text-align: right;\">\n",
       "      <th></th>\n",
       "      <th>column</th>\n",
       "      <th>missing percent</th>\n",
       "      <th>missing num</th>\n",
       "    </tr>\n",
       "  </thead>\n",
       "  <tbody>\n",
       "  </tbody>\n",
       "</table>\n",
       "</div>"
      ],
      "text/plain": [
       "Empty DataFrame\n",
       "Columns: [column, missing percent, missing num]\n",
       "Index: []"
      ]
     },
     "execution_count": 37,
     "metadata": {},
     "output_type": "execute_result"
    }
   ],
   "source": [
    "a = round((data.isnull().mean()*100),2)\n",
    "mssingcolumn=[]\n",
    "missingdata=[]\n",
    "missingnum=[]\n",
    "for i in range(len(a)):\n",
    "    if a.values[i] != 0:\n",
    "        mssingcolumn.append(a.keys()[i])\n",
    "for i in mssingcolumn:\n",
    "    missingdata.append(round((data[i].isnull().mean()*100),2))\n",
    "    missingnum.append(data[i].isnull().sum())\n",
    "missing=pd.DataFrame({'column':mssingcolumn,'missing percent':missingdata,'missing num':missingnum}) \n",
    "missing "
   ]
  },
  {
   "cell_type": "markdown",
   "id": "248f91b4",
   "metadata": {},
   "source": [
    "### Value counts apply on every column"
   ]
  },
  {
   "cell_type": "code",
   "execution_count": 38,
   "id": "762e8ab0",
   "metadata": {},
   "outputs": [
    {
     "data": {
      "text/html": [
       "---------------- <b>  class - column  </b> ----------------"
      ],
      "text/plain": [
       "<IPython.core.display.HTML object>"
      ]
     },
     "metadata": {},
     "output_type": "display_data"
    },
    {
     "name": "stdout",
     "output_type": "stream",
     "text": [
      "economy     206772\n",
      "business     93487\n",
      "Name: class, dtype: int64\n"
     ]
    },
    {
     "data": {
      "text/html": [
       "---------------- <b>  stops - column  </b> ----------------"
      ],
      "text/plain": [
       "<IPython.core.display.HTML object>"
      ]
     },
     "metadata": {},
     "output_type": "display_data"
    },
    {
     "name": "stdout",
     "output_type": "stream",
     "text": [
      "one            250927\n",
      "zero            36044\n",
      "two_or_more     13288\n",
      "Name: stops, dtype: int64\n"
     ]
    },
    {
     "data": {
      "text/html": [
       "---------------- <b>  departure_time - column  </b> ----------------"
      ],
      "text/plain": [
       "<IPython.core.display.HTML object>"
      ]
     },
     "metadata": {},
     "output_type": "display_data"
    },
    {
     "name": "stdout",
     "output_type": "stream",
     "text": [
      "Morning          99424\n",
      "Early morning    88562\n",
      "Afternoon        59504\n",
      "Evening          52769\n",
      "Name: departure_time, dtype: int64\n"
     ]
    },
    {
     "data": {
      "text/html": [
       "---------------- <b>  arrival_time - column  </b> ----------------"
      ],
      "text/plain": [
       "<IPython.core.display.HTML object>"
      ]
     },
     "metadata": {},
     "output_type": "display_data"
    },
    {
     "name": "stdout",
     "output_type": "stream",
     "text": [
      "Early morning    110278\n",
      "Morning           74970\n",
      "Evening           61578\n",
      "Afternoon         53433\n",
      "Name: arrival_time, dtype: int64\n"
     ]
    },
    {
     "data": {
      "text/html": [
       "---------------- <b>  from - column  </b> ----------------"
      ],
      "text/plain": [
       "<IPython.core.display.HTML object>"
      ]
     },
     "metadata": {},
     "output_type": "display_data"
    },
    {
     "name": "stdout",
     "output_type": "stream",
     "text": [
      "Delhi        61343\n",
      "Mumbai       60903\n",
      "Bangalore    52106\n",
      "Kolkata      46347\n",
      "Hyderabad    40860\n",
      "Chennai      38700\n",
      "Name: from, dtype: int64\n"
     ]
    },
    {
     "data": {
      "text/html": [
       "---------------- <b>  to - column  </b> ----------------"
      ],
      "text/plain": [
       "<IPython.core.display.HTML object>"
      ]
     },
     "metadata": {},
     "output_type": "display_data"
    },
    {
     "name": "stdout",
     "output_type": "stream",
     "text": [
      "Mumbai       59107\n",
      "Delhi        57361\n",
      "Bangalore    51112\n",
      "Kolkata      49535\n",
      "Hyderabad    42776\n",
      "Chennai      40368\n",
      "Name: to, dtype: int64\n"
     ]
    },
    {
     "data": {
      "text/html": [
       "---------------- <b>  airline - column  </b> ----------------"
      ],
      "text/plain": [
       "<IPython.core.display.HTML object>"
      ]
     },
     "metadata": {},
     "output_type": "display_data"
    },
    {
     "name": "stdout",
     "output_type": "stream",
     "text": [
      "Vistara      127859\n",
      "Air India     80892\n",
      "Indigo        43120\n",
      "GO FIRST      23177\n",
      "AirAsia       16098\n",
      "SpiceJet       9011\n",
      "StarAir          61\n",
      "Trujet           41\n",
      "Name: airline, dtype: int64\n"
     ]
    }
   ],
   "source": [
    "allcol=data.nunique().sort_values().keys()[:-1]\n",
    "sapret_column=[]\n",
    "for i in range(len(allcol)):\n",
    "    a=data[allcol[i]].value_counts()\n",
    "    if len(a) >= 15:\n",
    "        break;\n",
    "    sapret_column.append(allcol[i])\n",
    "    display(HTML(f'---------------- <b>  {allcol[i]} - column  </b> ----------------'))\n",
    "    print(a)"
   ]
  },
  {
   "cell_type": "code",
   "execution_count": 41,
   "id": "4aac71c5",
   "metadata": {},
   "outputs": [
    {
     "data": {
      "image/png": "[encoded data removed]",
      "text/plain": [
       "<Figure size 1080x1440 with 7 Axes>"
      ]
     },
     "metadata": {
      "needs_background": "light"
     },
     "output_type": "display_data"
    }
   ],
   "source": [
    "plt.figure(figsize=(15,20))\n",
    "for i in range(len(sapret_column)):\n",
    "    if i == 40:\n",
    "        break;\n",
    "    plt.subplot(4,3,i+1) \n",
    "    plt.tight_layout() # for maintain spaceing between multple graphs\n",
    "    plt.xlabel(f\"{sapret_column[i]} - column\",fontsize=12.0,fontweight='bold') \n",
    "    data[sapret_column[i]].value_counts().plot(kind=\"bar\", color = ['#10B981','#D97706','#EF4444','#3B82F6','#6366F1','#EC4899'])  "
   ]
  },
  {
   "cell_type": "code",
   "execution_count": 73,
   "id": "57bd34b4",
   "metadata": {},
   "outputs": [
    {
     "data": {
      "text/html": [
       "<div>\n",
       "<style scoped>\n",
       "    .dataframe tbody tr th:only-of-type {\n",
       "        vertical-align: middle;\n",
       "    }\n",
       "\n",
       "    .dataframe tbody tr th {\n",
       "        vertical-align: top;\n",
       "    }\n",
       "\n",
       "    .dataframe thead th {\n",
       "        text-align: right;\n",
       "    }\n",
       "</style>\n",
       "<table border=\"1\" class=\"dataframe\">\n",
       "  <thead>\n",
       "    <tr style=\"text-align: right;\">\n",
       "      <th></th>\n",
       "      <th>count</th>\n",
       "      <th>mean</th>\n",
       "      <th>std</th>\n",
       "      <th>min</th>\n",
       "      <th>25%</th>\n",
       "      <th>50%</th>\n",
       "      <th>75%</th>\n",
       "      <th>max</th>\n",
       "    </tr>\n",
       "  </thead>\n",
       "  <tbody>\n",
       "    <tr>\n",
       "      <th>price</th>\n",
       "      <td>300259.0</td>\n",
       "      <td>20883.800386</td>\n",
       "      <td>22695.96223</td>\n",
       "      <td>1105.0</td>\n",
       "      <td>4783.0</td>\n",
       "      <td>7425.0</td>\n",
       "      <td>42521.0</td>\n",
       "      <td>123071.0</td>\n",
       "    </tr>\n",
       "    <tr>\n",
       "      <th>time_min</th>\n",
       "      <td>300259.0</td>\n",
       "      <td>733.062369</td>\n",
       "      <td>431.57538</td>\n",
       "      <td>50.0</td>\n",
       "      <td>405.0</td>\n",
       "      <td>675.0</td>\n",
       "      <td>970.0</td>\n",
       "      <td>2990.0</td>\n",
       "    </tr>\n",
       "  </tbody>\n",
       "</table>\n",
       "</div>"
      ],
      "text/plain": [
       "             count          mean          std     min     25%     50%  \\\n",
       "price     300259.0  20883.800386  22695.96223  1105.0  4783.0  7425.0   \n",
       "time_min  300259.0    733.062369    431.57538    50.0   405.0   675.0   \n",
       "\n",
       "              75%       max  \n",
       "price     42521.0  123071.0  \n",
       "time_min    970.0    2990.0  "
      ]
     },
     "execution_count": 73,
     "metadata": {},
     "output_type": "execute_result"
    }
   ],
   "source": [
    "data.describe().T "
   ]
  },
  {
   "cell_type": "markdown",
   "id": "8b166135",
   "metadata": {},
   "source": [
    "### Skewness check"
   ]
  },
  {
   "cell_type": "code",
   "execution_count": 95,
   "id": "b31096ce",
   "metadata": {},
   "outputs": [
    {
     "data": {
      "text/html": [
       "Skewness of <b>price</b> is <b>1.062</b> which is <b>highly moderated</b>"
      ],
      "text/plain": [
       "<IPython.core.display.HTML object>"
      ]
     },
     "metadata": {},
     "output_type": "display_data"
    },
    {
     "data": {
      "text/html": [
       "Skewness of <b>time_min</b> is <b>0.603</b> which is <b>moderatly skewed</b>"
      ],
      "text/plain": [
       "<IPython.core.display.HTML object>"
      ]
     },
     "metadata": {},
     "output_type": "display_data"
    }
   ],
   "source": [
    "for i in data.dtypes[data.dtypes != 'object'].index:\n",
    "    val = round(data[i].skew(),3)\n",
    "    if val>1 or val<-1:\n",
    "        skewed = \"highly moderated\"\n",
    "    elif (val>0.5 and val<1) or (val<-0.5 and val>-1 ):\n",
    "        skewed = \"moderatly skewed\"\n",
    "    else:\n",
    "        skewed = \"fairly symmetrical\"\n",
    "    display(HTML(f'Skewness of <b>{i}</b> is <b>{val}</b> which is <b>{skewed}</b>'))"
   ]
  },
  {
   "cell_type": "code",
   "execution_count": 91,
   "id": "aae856df",
   "metadata": {},
   "outputs": [
    {
     "data": {
      "text/plain": [
       "<AxesSubplot:xlabel='price', ylabel='Density'>"
      ]
     },
     "execution_count": 91,
     "metadata": {},
     "output_type": "execute_result"
    },
    {
     "data": {
      "image/png": "[encoded data removed]",
      "text/plain": [
       "<Figure size 432x288 with 1 Axes>"
      ]
     },
     "metadata": {
      "needs_background": "light"
     },
     "output_type": "display_data"
    }
   ],
   "source": [
    "sns.distplot(data['price'])"
   ]
  },
  {
   "cell_type": "code",
   "execution_count": 114,
   "id": "59680276",
   "metadata": {},
   "outputs": [
    {
     "data": {
      "text/plain": [
       "0.40469869808173214"
      ]
     },
     "execution_count": 114,
     "metadata": {},
     "output_type": "execute_result"
    }
   ],
   "source": [
    "np.log(data['price']).skew()  # skewness lies faily distributed "
   ]
  },
  {
   "cell_type": "code",
   "execution_count": 92,
   "id": "9636764d",
   "metadata": {},
   "outputs": [
    {
     "data": {
      "text/plain": [
       "<AxesSubplot:xlabel='price', ylabel='Density'>"
      ]
     },
     "execution_count": 92,
     "metadata": {},
     "output_type": "execute_result"
    },
    {
     "data": {
      "image/png": "[encoded data removed]",
      "text/plain": [
       "<Figure size 432x288 with 1 Axes>"
      ]
     },
     "metadata": {
      "needs_background": "light"
     },
     "output_type": "display_data"
    }
   ],
   "source": [
    "sns.distplot(np.log(data['price'])) "
   ]
  },
  {
   "cell_type": "code",
   "execution_count": 120,
   "id": "5fa3880b",
   "metadata": {},
   "outputs": [
    {
     "data": {
      "text/html": [
       "<div>\n",
       "<style scoped>\n",
       "    .dataframe tbody tr th:only-of-type {\n",
       "        vertical-align: middle;\n",
       "    }\n",
       "\n",
       "    .dataframe tbody tr th {\n",
       "        vertical-align: top;\n",
       "    }\n",
       "\n",
       "    .dataframe thead th {\n",
       "        text-align: right;\n",
       "    }\n",
       "</style>\n",
       "<table border=\"1\" class=\"dataframe\">\n",
       "  <thead>\n",
       "    <tr style=\"text-align: right;\">\n",
       "      <th></th>\n",
       "      <th>airline</th>\n",
       "      <th>dep_time</th>\n",
       "      <th>from</th>\n",
       "      <th>arr_time</th>\n",
       "      <th>to</th>\n",
       "      <th>price</th>\n",
       "      <th>class</th>\n",
       "      <th>stops</th>\n",
       "      <th>stops_via</th>\n",
       "      <th>time_min</th>\n",
       "      <th>flight</th>\n",
       "      <th>departure_time</th>\n",
       "      <th>arrival_time</th>\n",
       "    </tr>\n",
       "  </thead>\n",
       "  <tbody>\n",
       "    <tr>\n",
       "      <th>254667</th>\n",
       "      <td>Vistara</td>\n",
       "      <td>08:00</td>\n",
       "      <td>Bangalore</td>\n",
       "      <td>22:45</td>\n",
       "      <td>Kolkata</td>\n",
       "      <td>60508</td>\n",
       "      <td>business</td>\n",
       "      <td>one</td>\n",
       "      <td>NAN</td>\n",
       "      <td>885</td>\n",
       "      <td>UK-808</td>\n",
       "      <td>Morning</td>\n",
       "      <td>Early morning</td>\n",
       "    </tr>\n",
       "    <tr>\n",
       "      <th>110271</th>\n",
       "      <td>Vistara</td>\n",
       "      <td>09:30</td>\n",
       "      <td>Bangalore</td>\n",
       "      <td>07:50</td>\n",
       "      <td>Hyderabad</td>\n",
       "      <td>8260</td>\n",
       "      <td>economy</td>\n",
       "      <td>one</td>\n",
       "      <td>NAN</td>\n",
       "      <td>1340</td>\n",
       "      <td>UK-852</td>\n",
       "      <td>Morning</td>\n",
       "      <td>Morning</td>\n",
       "    </tr>\n",
       "  </tbody>\n",
       "</table>\n",
       "</div>"
      ],
      "text/plain": [
       "        airline dep_time       from arr_time         to  price     class  \\\n",
       "254667  Vistara    08:00  Bangalore    22:45    Kolkata  60508  business   \n",
       "110271  Vistara    09:30  Bangalore    07:50  Hyderabad   8260   economy   \n",
       "\n",
       "       stops stops_via  time_min  flight departure_time   arrival_time  \n",
       "254667   one       NAN       885  UK-808        Morning  Early morning  \n",
       "110271   one       NAN      1340  UK-852        Morning        Morning  "
      ]
     },
     "execution_count": 120,
     "metadata": {},
     "output_type": "execute_result"
    }
   ],
   "source": [
    "data.sample(2)"
   ]
  },
  {
   "cell_type": "code",
   "execution_count": 121,
   "id": "64cea90f",
   "metadata": {},
   "outputs": [
    {
     "data": {
      "text/html": [
       "<div>\n",
       "<style scoped>\n",
       "    .dataframe tbody tr th:only-of-type {\n",
       "        vertical-align: middle;\n",
       "    }\n",
       "\n",
       "    .dataframe tbody tr th {\n",
       "        vertical-align: top;\n",
       "    }\n",
       "\n",
       "    .dataframe thead th {\n",
       "        text-align: right;\n",
       "    }\n",
       "</style>\n",
       "<table border=\"1\" class=\"dataframe\">\n",
       "  <thead>\n",
       "    <tr style=\"text-align: right;\">\n",
       "      <th></th>\n",
       "      <th>price</th>\n",
       "      <th>time_min</th>\n",
       "    </tr>\n",
       "    <tr>\n",
       "      <th>airline</th>\n",
       "      <th></th>\n",
       "      <th></th>\n",
       "    </tr>\n",
       "  </thead>\n",
       "  <tbody>\n",
       "    <tr>\n",
       "      <th>Air India</th>\n",
       "      <td>1901529790</td>\n",
       "      <td>75249880</td>\n",
       "    </tr>\n",
       "    <tr>\n",
       "      <th>AirAsia</th>\n",
       "      <td>65858089</td>\n",
       "      <td>8636405</td>\n",
       "    </tr>\n",
       "    <tr>\n",
       "      <th>GO FIRST</th>\n",
       "      <td>130994795</td>\n",
       "      <td>12173654</td>\n",
       "    </tr>\n",
       "    <tr>\n",
       "      <th>Indigo</th>\n",
       "      <td>229580207</td>\n",
       "      <td>14993230</td>\n",
       "    </tr>\n",
       "    <tr>\n",
       "      <th>SpiceJet</th>\n",
       "      <td>55681482</td>\n",
       "      <td>6801230</td>\n",
       "    </tr>\n",
       "    <tr>\n",
       "      <th>StarAir</th>\n",
       "      <td>300892</td>\n",
       "      <td>8905</td>\n",
       "    </tr>\n",
       "    <tr>\n",
       "      <th>Trujet</th>\n",
       "      <td>133030</td>\n",
       "      <td>9515</td>\n",
       "    </tr>\n",
       "    <tr>\n",
       "      <th>Vistara</th>\n",
       "      <td>3886470735</td>\n",
       "      <td>102235755</td>\n",
       "    </tr>\n",
       "  </tbody>\n",
       "</table>\n",
       "</div>"
      ],
      "text/plain": [
       "                price   time_min\n",
       "airline                         \n",
       "Air India  1901529790   75249880\n",
       "AirAsia      65858089    8636405\n",
       "GO FIRST    130994795   12173654\n",
       "Indigo      229580207   14993230\n",
       "SpiceJet     55681482    6801230\n",
       "StarAir        300892       8905\n",
       "Trujet         133030       9515\n",
       "Vistara    3886470735  102235755"
      ]
     },
     "execution_count": 121,
     "metadata": {},
     "output_type": "execute_result"
    }
   ],
   "source": [
    "data.groupby('airline').sum()"
   ]
  },
  {
   "cell_type": "code",
   "execution_count": 224,
   "id": "2bf1c01c",
   "metadata": {},
   "outputs": [
    {
     "data": {
      "text/html": [
       "<h3>Which Airline take more time ?</h4>"
      ],
      "text/plain": [
       "<IPython.core.display.HTML object>"
      ]
     },
     "metadata": {},
     "output_type": "display_data"
    },
    {
     "data": {
      "image/png": "[encoded data removed]",
      "text/plain": [
       "<Figure size 936x360 with 1 Axes>"
      ]
     },
     "metadata": {
      "needs_background": "light"
     },
     "output_type": "display_data"
    }
   ],
   "source": [
    "plt.figure(figsize=(13,5))\n",
    "col1=\"airline\"\n",
    "col2=\"time_min\"\n",
    "sns.barplot(\n",
    "        data.groupby(col1).sum()[col2].sort_values().index,\n",
    "        data.groupby(col1).sum()[col2].sort_values()\n",
    ")\n",
    "display(HTML('<h3>Which Airline take more time ?</h4>'))"
   ]
  },
  {
   "cell_type": "code",
   "execution_count": 223,
   "id": "88afcb04",
   "metadata": {},
   "outputs": [
    {
     "data": {
      "text/html": [
       "<h3>Which Airline take more money?</h4>"
      ],
      "text/plain": [
       "<IPython.core.display.HTML object>"
      ]
     },
     "metadata": {},
     "output_type": "display_data"
    },
    {
     "data": {
      "image/png": "[encoded data removed]",
      "text/plain": [
       "<Figure size 936x360 with 1 Axes>"
      ]
     },
     "metadata": {
      "needs_background": "light"
     },
     "output_type": "display_data"
    }
   ],
   "source": [
    "plt.figure(figsize=(13,5))\n",
    "col1=\"airline\"\n",
    "col2=\"price\"\n",
    "sns.barplot(\n",
    "        data.groupby(col1).sum()[col2].sort_values().index,\n",
    "        data.groupby(col1).sum()[col2].sort_values()\n",
    ")\n",
    "display(HTML('<h3>Which Airline take more money?</h4>'))"
   ]
  },
  {
   "cell_type": "code",
   "execution_count": 228,
   "id": "63746bbe",
   "metadata": {},
   "outputs": [
    {
     "data": {
      "text/html": [
       "<h3>Which class take more money?</h4>"
      ],
      "text/plain": [
       "<IPython.core.display.HTML object>"
      ]
     },
     "metadata": {},
     "output_type": "display_data"
    },
    {
     "data": {
      "image/png": "[encoded data removed]",
      "text/plain": [
       "<Figure size 576x360 with 1 Axes>"
      ]
     },
     "metadata": {
      "needs_background": "light"
     },
     "output_type": "display_data"
    }
   ],
   "source": [
    "plt.figure(figsize=(8,5))\n",
    "col1=\"class\"\n",
    "col2=\"price\"\n",
    "sns.barplot(\n",
    "        data.groupby(col1).sum()[col2].sort_values().index,\n",
    "        data.groupby(col1).sum()[col2].sort_values()\n",
    ")\n",
    "display(HTML('<h3>Which class take more money?</h4>'))"
   ]
  },
  {
   "cell_type": "code",
   "execution_count": 229,
   "id": "811d59b5",
   "metadata": {},
   "outputs": [
    {
     "data": {
      "text/html": [
       "<h3>Which class take more time?</h4>"
      ],
      "text/plain": [
       "<IPython.core.display.HTML object>"
      ]
     },
     "metadata": {},
     "output_type": "display_data"
    },
    {
     "data": {
      "image/png": "[encoded data removed]",
      "text/plain": [
       "<Figure size 576x360 with 1 Axes>"
      ]
     },
     "metadata": {
      "needs_background": "light"
     },
     "output_type": "display_data"
    }
   ],
   "source": [
    "plt.figure(figsize=(8,5))\n",
    "col1=\"class\"\n",
    "col2=\"time_min\"\n",
    "sns.barplot(\n",
    "        data.groupby(col1).sum()[col2].sort_values().index,\n",
    "        data.groupby(col1).sum()[col2].sort_values()\n",
    ")\n",
    "display(HTML('<h3>Which class take more time?</h4>'))"
   ]
  },
  {
   "cell_type": "code",
   "execution_count": 303,
   "id": "7b53d0a0",
   "metadata": {},
   "outputs": [
    {
     "data": {
      "text/html": [
       "<div>\n",
       "<style scoped>\n",
       "    .dataframe tbody tr th:only-of-type {\n",
       "        vertical-align: middle;\n",
       "    }\n",
       "\n",
       "    .dataframe tbody tr th {\n",
       "        vertical-align: top;\n",
       "    }\n",
       "\n",
       "    .dataframe thead th {\n",
       "        text-align: right;\n",
       "    }\n",
       "</style>\n",
       "<table border=\"1\" class=\"dataframe\">\n",
       "  <thead>\n",
       "    <tr style=\"text-align: right;\">\n",
       "      <th></th>\n",
       "      <th></th>\n",
       "      <th>price</th>\n",
       "      <th>time_min</th>\n",
       "    </tr>\n",
       "    <tr>\n",
       "      <th>class</th>\n",
       "      <th>airline</th>\n",
       "      <th></th>\n",
       "      <th></th>\n",
       "    </tr>\n",
       "  </thead>\n",
       "  <tbody>\n",
       "    <tr>\n",
       "      <th rowspan=\"2\" valign=\"top\">business</th>\n",
       "      <th>Air India</th>\n",
       "      <td>47131.039212</td>\n",
       "      <td>878.090309</td>\n",
       "    </tr>\n",
       "    <tr>\n",
       "      <th>Vistara</th>\n",
       "      <td>55477.027777</td>\n",
       "      <td>791.935747</td>\n",
       "    </tr>\n",
       "    <tr>\n",
       "      <th rowspan=\"8\" valign=\"top\">economy</th>\n",
       "      <th>Air India</th>\n",
       "      <td>7313.682169</td>\n",
       "      <td>966.005438</td>\n",
       "    </tr>\n",
       "    <tr>\n",
       "      <th>AirAsia</th>\n",
       "      <td>4091.072742</td>\n",
       "      <td>536.489315</td>\n",
       "    </tr>\n",
       "    <tr>\n",
       "      <th>GO FIRST</th>\n",
       "      <td>5651.930578</td>\n",
       "      <td>525.247185</td>\n",
       "    </tr>\n",
       "    <tr>\n",
       "      <th>Indigo</th>\n",
       "      <td>5324.216303</td>\n",
       "      <td>347.709416</td>\n",
       "    </tr>\n",
       "    <tr>\n",
       "      <th>SpiceJet</th>\n",
       "      <td>6179.278881</td>\n",
       "      <td>754.769726</td>\n",
       "    </tr>\n",
       "    <tr>\n",
       "      <th>StarAir</th>\n",
       "      <td>4932.655738</td>\n",
       "      <td>145.983607</td>\n",
       "    </tr>\n",
       "    <tr>\n",
       "      <th>Trujet</th>\n",
       "      <td>3244.634146</td>\n",
       "      <td>232.073171</td>\n",
       "    </tr>\n",
       "    <tr>\n",
       "      <th>Vistara</th>\n",
       "      <td>7806.943645</td>\n",
       "      <td>806.498588</td>\n",
       "    </tr>\n",
       "  </tbody>\n",
       "</table>\n",
       "</div>"
      ],
      "text/plain": [
       "                           price    time_min\n",
       "class    airline                            \n",
       "business Air India  47131.039212  878.090309\n",
       "         Vistara    55477.027777  791.935747\n",
       "economy  Air India   7313.682169  966.005438\n",
       "         AirAsia     4091.072742  536.489315\n",
       "         GO FIRST    5651.930578  525.247185\n",
       "         Indigo      5324.216303  347.709416\n",
       "         SpiceJet    6179.278881  754.769726\n",
       "         StarAir     4932.655738  145.983607\n",
       "         Trujet      3244.634146  232.073171\n",
       "         Vistara     7806.943645  806.498588"
      ]
     },
     "execution_count": 303,
     "metadata": {},
     "output_type": "execute_result"
    }
   ],
   "source": [
    "data.groupby(['class','airline']).mean() "
   ]
  },
  {
   "cell_type": "code",
   "execution_count": 310,
   "id": "f7185511",
   "metadata": {},
   "outputs": [
    {
     "data": {
      "image/png": "[encoded data removed]",
      "text/plain": [
       "<Figure size 1080x288 with 2 Axes>"
      ]
     },
     "metadata": {
      "needs_background": "light"
     },
     "output_type": "display_data"
    }
   ],
   "source": [
    "plt.figure(figsize=(15,4))\n",
    "a = data.groupby(['class','airline']).mean().reset_index()\n",
    "\n",
    "plt.subplot(1,2,1)\n",
    "plt.title('which airline price is more in business class')\n",
    "d1 = a[a['class'] == \"business\"]\n",
    "sns.barplot(d1['airline'],d1['price'].sort_values())\n",
    "\n",
    "plt.subplot(1,2,2)\n",
    "plt.title('which airline price is more in economy class')\n",
    "d2 = a[a['class'] == \"economy\"]\n",
    "sns.barplot(d2['airline'],d2['price'])\n",
    "\n",
    "plt.show()"
   ]
  },
  {
   "cell_type": "code",
   "execution_count": null,
   "id": "df2a8f21",
   "metadata": {},
   "outputs": [],
   "source": []
  }
 ],
 "metadata": {
  "kernelspec": {
   "display_name": "Python 3",
   "language": "python",
   "name": "python3"
  },
  "language_info": {
   "codemirror_mode": {
    "name": "ipython",
    "version": 3
   },
   "file_extension": ".py",
   "mimetype": "text/x-python",
   "name": "python",
   "nbconvert_exporter": "python",
   "pygments_lexer": "ipython3",
   "version": "3.8.8"
  },
  "toc": {
   "base_numbering": 1,
   "nav_menu": {},
   "number_sections": false,
   "sideBar": true,
   "skip_h1_title": false,
   "title_cell": "Table of Contents",
   "title_sidebar": "Contents",
   "toc_cell": false,
   "toc_position": {},
   "toc_section_display": true,
   "toc_window_display": false
  }
 },
 "nbformat": 4,
 "nbformat_minor": 5
}
